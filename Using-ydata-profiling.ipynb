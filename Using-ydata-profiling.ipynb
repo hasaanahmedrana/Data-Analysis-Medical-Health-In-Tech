{
 "cells": [
  {
   "metadata": {},
   "cell_type": "code",
   "outputs": [],
   "execution_count": null,
   "source": "!pip install ydata_profiling",
   "id": "f0e987600402722f"
  },
  {
   "cell_type": "code",
   "id": "9529ddfa-5024-43b5-9a26-289492163ab9",
   "metadata": {
    "ExecuteTime": {
     "end_time": "2024-12-28T13:08:16.702496Z",
     "start_time": "2024-12-28T13:08:11.763876Z"
    }
   },
   "source": "from ydata_profiling import ProfileReport",
   "outputs": [],
   "execution_count": 1
  },
  {
   "metadata": {
    "ExecuteTime": {
     "end_time": "2024-12-28T13:08:16.778068Z",
     "start_time": "2024-12-28T13:08:16.702496Z"
    }
   },
   "cell_type": "code",
   "source": [
    "import pandas as pd\n",
    "df = pd.read_csv('data.csv')"
   ],
   "id": "8a494407fad9cb63",
   "outputs": [],
   "execution_count": 2
  },
  {
   "metadata": {
    "ExecuteTime": {
     "end_time": "2024-12-28T13:08:27.445426Z",
     "start_time": "2024-12-28T13:08:16.778068Z"
    }
   },
   "cell_type": "code",
   "source": [
    "report = ProfileReport(df, title=\"Results\", explorative=True)\n",
    "report.to_file(r'C:\\Users\\PMLS\\Desktop\\report.html')"
   ],
   "id": "323491423546cd8b",
   "outputs": [
    {
     "data": {
      "text/plain": [
       "Summarize dataset:   0%|          | 0/5 [00:00<?, ?it/s]"
      ],
      "application/vnd.jupyter.widget-view+json": {
       "version_major": 2,
       "version_minor": 0,
       "model_id": "8a01036edfd04ae4bf8a769516ac5376"
      }
     },
     "metadata": {},
     "output_type": "display_data"
    },
    {
     "data": {
      "text/plain": [
       "Generate report structure:   0%|          | 0/1 [00:00<?, ?it/s]"
      ],
      "application/vnd.jupyter.widget-view+json": {
       "version_major": 2,
       "version_minor": 0,
       "model_id": "a5ca739763b7492db492c1d6abd43ee5"
      }
     },
     "metadata": {},
     "output_type": "display_data"
    },
    {
     "data": {
      "text/plain": [
       "Render HTML:   0%|          | 0/1 [00:00<?, ?it/s]"
      ],
      "application/vnd.jupyter.widget-view+json": {
       "version_major": 2,
       "version_minor": 0,
       "model_id": "70582321c842439aa4ae19b942f9e20b"
      }
     },
     "metadata": {},
     "output_type": "display_data"
    },
    {
     "data": {
      "text/plain": [
       "Export report to file:   0%|          | 0/1 [00:00<?, ?it/s]"
      ],
      "application/vnd.jupyter.widget-view+json": {
       "version_major": 2,
       "version_minor": 0,
       "model_id": "71ab69ffdc9d4e4d9d0efb8a7cc50d61"
      }
     },
     "metadata": {},
     "output_type": "display_data"
    }
   ],
   "execution_count": 3
  },
  {
   "cell_type": "code",
   "id": "bd64b9a7-2709-4c97-b61a-4e1b3ae71bde",
   "metadata": {
    "ExecuteTime": {
     "end_time": "2024-12-28T13:08:27.454915Z",
     "start_time": "2024-12-28T13:08:27.446620Z"
    }
   },
   "source": [],
   "outputs": [],
   "execution_count": 3
  },
  {
   "metadata": {},
   "cell_type": "code",
   "outputs": [],
   "execution_count": null,
   "source": "",
   "id": "4703ab7523767663"
  }
 ],
 "metadata": {
  "kernelspec": {
   "display_name": "Python 3 (ipykernel)",
   "language": "python",
   "name": "python3"
  },
  "language_info": {
   "codemirror_mode": {
    "name": "ipython",
    "version": 3
   },
   "file_extension": ".py",
   "mimetype": "text/x-python",
   "name": "python",
   "nbconvert_exporter": "python",
   "pygments_lexer": "ipython3",
   "version": "3.12.7"
  }
 },
 "nbformat": 4,
 "nbformat_minor": 5
}
